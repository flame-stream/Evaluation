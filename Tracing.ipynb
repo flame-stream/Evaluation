{
 "cells": [
  {
   "cell_type": "markdown",
   "metadata": {},
   "source": [
    "# Tracing"
   ]
  },
  {
   "cell_type": "code",
   "execution_count": 1,
   "metadata": {
    "collapsed": true
   },
   "outputs": [],
   "source": [
    "%matplotlib inline\n",
    "import os\n",
    "import pandas as pd\n",
    "import numpy as np\n",
    "import matplotlib.pyplot as plt\n",
    "plt.rcParams[\"figure.figsize\"] = [16, 14] "
   ]
  },
  {
   "cell_type": "code",
   "execution_count": 2,
   "metadata": {
    "collapsed": true
   },
   "outputs": [],
   "source": [
    "def parse_trace(di, fix = 0):\n",
    "    trace = pd.DataFrame(columns=[\"event\", \"id\", \"ts\", \"location\"])\n",
    "\n",
    "    for dirpath, dnames, fnames in os.walk(di):\n",
    "        for f in fnames:\n",
    "            if f.endswith(\".csv\"):\n",
    "                t = pd.read_csv(os.path.join(dirpath, f), header=None, names=['event', 'id', 'ts'])\n",
    "                t['location'] =  os.path.splitext(f)[0]\n",
    "                trace = pd.concat([trace, t])\n",
    "    trace = trace.set_index(\"id\")\n",
    "    return trace.apply(pd.to_numeric, errors='ignore')"
   ]
  },
  {
   "cell_type": "code",
   "execution_count": 3,
   "metadata": {
    "collapsed": true
   },
   "outputs": [],
   "source": [
    "def delay_between(trace, from_event, to_event, from_location = None, to_location = None):\n",
    "    joined = trace.join(trace, lsuffix='_from', rsuffix='_to', how='inner')\n",
    "    filtered = joined[(joined['event_from'] == from_event) & (joined['event_to'] == to_event)]\n",
    "    if from_location is not None:\n",
    "        filtered = filtered[filtered['location_from'] == from_location]\n",
    "    if to_location is not None:\n",
    "        filtered = filtered[filtered['location_to'] == to_location]\n",
    "    filtered['delay'] = filtered['ts_to'] - filtered['ts_from']\n",
    "    return np.array((filtered['ts_to'] - filtered['ts_from']).unique(), dtype=np.int64)"
   ]
  },
  {
   "cell_type": "code",
   "execution_count": 44,
   "metadata": {
    "collapsed": true
   },
   "outputs": [],
   "source": [
    "def sync_skew(trace):\n",
    "    for location in trace['location'].unique():\n",
    "        d = delay_between(trace, 'barrier-send', 'front-receive-send', from_location=location)\n",
    "        if d.size > 0:\n",
    "            min = d.min()\n",
    "            trace.loc[trace['location'] == location, 'ts'] += min\n",
    "    return trace"
   ]
  },
  {
   "cell_type": "code",
   "execution_count": 32,
   "metadata": {
    "collapsed": true
   },
   "outputs": [],
   "source": [
    "def stage_plots(trace) :\n",
    "    bench_in = delay_between(trace, 'bench-send', 'front-receive-send') / 1e6\n",
    "    plt.plot(np.linspace(0, 1, np.size(bench_in)), np.sort(bench_in), label=\"bench - front (network)\")\n",
    "\n",
    "    to_source = delay_between(trace, 'front-receive', 'flatmap-receive') / 1e6\n",
    "    plt.plot(np.linspace(0, 1, np.size(to_source)), np.sort(to_source), label=\"front - source (queue)\")\n",
    "    \n",
    "    gm_q = delay_between(trace, 'flatmap-send', 'grouping-receive') / 1e6\n",
    "    plt.plot(np.linspace(0, 1, np.size(gm_q)), np.sort(gm_q), label=\"GM queueing (queue)\")\n",
    "\n",
    "    source_shuffle = delay_between(trace, 'source-in', 'source-out') / 1e6\n",
    "    plt.plot(np.linspace(0, 1, np.size(source_shuffle)), np.sort(source_shuffle), label=\"local chaincall (calls)\")\n",
    "\n",
    "    shuffle = delay_between(trace, 'remote-send', 'inject') / 1e6\n",
    "    plt.plot(np.linspace(0, 1, np.size(shuffle)), np.sort(shuffle), label=\"the shuffle (network + queue)\")\n",
    "\n",
    "    inject_delay = delay_between(trace, 'inject', 'injectOut') / 1e6\n",
    "    plt.plot(np.linspace(0, 1, np.size(inject_delay)), np.sort(inject_delay), label=\"local index processing (calls)\")\n",
    "\n",
    "    to_rear = delay_between(trace, 'sink', 'rear') / 1e6\n",
    "    plt.plot(np.linspace(0, 1, np.size(to_rear)), np.sort(to_rear), label=\"sink - rear (queue)\")\n",
    "\n",
    "    bench_out = delay_between(trace, 'rear', 'bench-receive') / 1e6\n",
    "    plt.plot(np.linspace(0, 1, np.size(bench_out)), np.sort(bench_out), label=\"rear-bench (network)\")\n",
    "\n",
    "    plt.legend(loc='upper left')\n",
    "    plt.show()"
   ]
  },
  {
   "cell_type": "code",
   "execution_count": 6,
   "metadata": {},
   "outputs": [
    {
     "data": {
      "text/plain": [
       "(60365, 3)"
      ]
     },
     "execution_count": 6,
     "metadata": {},
     "output_type": "execute_result"
    }
   ],
   "source": [
    "p = parse_trace(\"../FlameStream/benchmark/ansible/flamestream/traces\")\n",
    "p.shape"
   ]
  },
  {
   "cell_type": "code",
   "execution_count": 11,
   "metadata": {
    "collapsed": true
   },
   "outputs": [],
   "source": [
    "from_event = 'flatmap-send'\n",
    "to_event = 'grouping-receive'\n",
    "joined = p.join(p, lsuffix='_from', rsuffix='_to', how='inner')\n",
    "filtered = joined[(joined['event_from'] == from_event) & (joined['event_to'] == to_event)]"
   ]
  },
  {
   "cell_type": "code",
   "execution_count": 27,
   "metadata": {},
   "outputs": [
    {
     "data": {
      "text/plain": [
       "(12649, 6)"
      ]
     },
     "execution_count": 27,
     "metadata": {},
     "output_type": "execute_result"
    }
   ],
   "source": [
    "filtered.shape"
   ]
  },
  {
   "cell_type": "code",
   "execution_count": 31,
   "metadata": {},
   "outputs": [
    {
     "ename": "AttributeError",
     "evalue": "'DataFrameGroupBy' object has no attribute 'length'",
     "output_type": "error",
     "traceback": [
      "\u001b[0;31m---------------------------------------------------------------------------\u001b[0m",
      "\u001b[0;31mAttributeError\u001b[0m                            Traceback (most recent call last)",
      "\u001b[0;32m<ipython-input-31-d5ab07ceee66>\u001b[0m in \u001b[0;36m<module>\u001b[0;34m()\u001b[0m\n\u001b[0;32m----> 1\u001b[0;31m \u001b[0mfiltered\u001b[0m\u001b[0;34m.\u001b[0m\u001b[0mgroupby\u001b[0m\u001b[0;34m(\u001b[0m\u001b[0;34m'id'\u001b[0m\u001b[0;34m)\u001b[0m\u001b[0;34m.\u001b[0m\u001b[0mlength\u001b[0m\u001b[0;34m(\u001b[0m\u001b[0;34m)\u001b[0m\u001b[0;34m\u001b[0m\u001b[0m\n\u001b[0m",
      "\u001b[0;32m/opt/anaconda3/lib/python3.6/site-packages/pandas/core/groupby.py\u001b[0m in \u001b[0;36m__getattr__\u001b[0;34m(self, attr)\u001b[0m\n\u001b[1;32m    549\u001b[0m \u001b[0;34m\u001b[0m\u001b[0m\n\u001b[1;32m    550\u001b[0m         raise AttributeError(\"%r object has no attribute %r\" %\n\u001b[0;32m--> 551\u001b[0;31m                              (type(self).__name__, attr))\n\u001b[0m\u001b[1;32m    552\u001b[0m \u001b[0;34m\u001b[0m\u001b[0m\n\u001b[1;32m    553\u001b[0m     \u001b[0mplot\u001b[0m \u001b[0;34m=\u001b[0m \u001b[0mproperty\u001b[0m\u001b[0;34m(\u001b[0m\u001b[0mGroupByPlot\u001b[0m\u001b[0;34m)\u001b[0m\u001b[0;34m\u001b[0m\u001b[0m\n",
      "\u001b[0;31mAttributeError\u001b[0m: 'DataFrameGroupBy' object has no attribute 'length'"
     ]
    }
   ],
   "source": [
    "filtered.groupby('id')"
   ]
  },
  {
   "cell_type": "code",
   "execution_count": 56,
   "metadata": {},
   "outputs": [
    {
     "data": {
      "image/png": "[encoded data removed]",
      "text/plain": [
       "<matplotlib.figure.Figure at 0x7f49472656a0>"
      ]
     },
     "metadata": {},
     "output_type": "display_data"
    }
   ],
   "source": [
    "stage_plots(p)"
   ]
  },
  {
   "cell_type": "markdown",
   "metadata": {},
   "source": [
    "# Acks"
   ]
  },
  {
   "cell_type": "code",
   "execution_count": 193,
   "metadata": {},
   "outputs": [
    {
     "data": {
      "image/png": "[encoded data removed]",
      "text/plain": [
       "<matplotlib.figure.Figure at 0x7fe3ed41ddd8>"
      ]
     },
     "metadata": {},
     "output_type": "display_data"
    }
   ],
   "source": [
    "ack_acker_away = delay_between(acker_away, 'ack-create', 'ack-receive') + 5\n",
    "ack_acker_same = delay_between(acker_same, 'ack-create', 'ack-receive') + 0\n",
    "\n",
    "q1 = np.linspace(0, 1, np.size(ack_acker_away))\n",
    "q2 = np.linspace(0, 1, np.size(ack_acker_same))\n",
    "\n",
    "plt.plot(q1, np.sort(ack_acker_away), q2, np.sort(ack_acker_same))\n",
    "plt.show()"
   ]
  },
  {
   "cell_type": "code",
   "execution_count": 191,
   "metadata": {},
   "outputs": [
    {
     "data": {
      "text/html": [
       "<div>\n",
       "<style>\n",
       "    .dataframe thead tr:only-child th {\n",
       "        text-align: right;\n",
       "    }\n",
       "\n",
       "    .dataframe thead th {\n",
       "        text-align: left;\n",
       "    }\n",
       "\n",
       "    .dataframe tbody tr th {\n",
       "        vertical-align: top;\n",
       "    }\n",
       "</style>\n",
       "<table border=\"1\" class=\"dataframe\">\n",
       "  <thead>\n",
       "    <tr style=\"text-align: right;\">\n",
       "      <th></th>\n",
       "      <th>0</th>\n",
       "    </tr>\n",
       "  </thead>\n",
       "  <tbody>\n",
       "    <tr>\n",
       "      <th>count</th>\n",
       "      <td>6777.000000</td>\n",
       "    </tr>\n",
       "    <tr>\n",
       "      <th>mean</th>\n",
       "      <td>9.654799</td>\n",
       "    </tr>\n",
       "    <tr>\n",
       "      <th>std</th>\n",
       "      <td>8.796992</td>\n",
       "    </tr>\n",
       "    <tr>\n",
       "      <th>min</th>\n",
       "      <td>-0.819752</td>\n",
       "    </tr>\n",
       "    <tr>\n",
       "      <th>25%</th>\n",
       "      <td>5.780066</td>\n",
       "    </tr>\n",
       "    <tr>\n",
       "      <th>50%</th>\n",
       "      <td>7.711393</td>\n",
       "    </tr>\n",
       "    <tr>\n",
       "      <th>75%</th>\n",
       "      <td>10.325641</td>\n",
       "    </tr>\n",
       "    <tr>\n",
       "      <th>max</th>\n",
       "      <td>160.288821</td>\n",
       "    </tr>\n",
       "  </tbody>\n",
       "</table>\n",
       "</div>"
      ],
      "text/plain": [
       "                 0\n",
       "count  6777.000000\n",
       "mean      9.654799\n",
       "std       8.796992\n",
       "min      -0.819752\n",
       "25%       5.780066\n",
       "50%       7.711393\n",
       "75%      10.325641\n",
       "max     160.288821"
      ]
     },
     "execution_count": 191,
     "metadata": {},
     "output_type": "execute_result"
    }
   ],
   "source": [
    "pd.DataFrame(ack_acker_away).describe()"
   ]
  },
  {
   "cell_type": "code",
   "execution_count": 192,
   "metadata": {},
   "outputs": [
    {
     "data": {
      "text/html": [
       "<div>\n",
       "<style>\n",
       "    .dataframe thead tr:only-child th {\n",
       "        text-align: right;\n",
       "    }\n",
       "\n",
       "    .dataframe thead th {\n",
       "        text-align: left;\n",
       "    }\n",
       "\n",
       "    .dataframe tbody tr th {\n",
       "        vertical-align: top;\n",
       "    }\n",
       "</style>\n",
       "<table border=\"1\" class=\"dataframe\">\n",
       "  <thead>\n",
       "    <tr style=\"text-align: right;\">\n",
       "      <th></th>\n",
       "      <th>0</th>\n",
       "    </tr>\n",
       "  </thead>\n",
       "  <tbody>\n",
       "    <tr>\n",
       "      <th>count</th>\n",
       "      <td>6997.000000</td>\n",
       "    </tr>\n",
       "    <tr>\n",
       "      <th>mean</th>\n",
       "      <td>10.182313</td>\n",
       "    </tr>\n",
       "    <tr>\n",
       "      <th>std</th>\n",
       "      <td>25.922601</td>\n",
       "    </tr>\n",
       "    <tr>\n",
       "      <th>min</th>\n",
       "      <td>-0.619741</td>\n",
       "    </tr>\n",
       "    <tr>\n",
       "      <th>25%</th>\n",
       "      <td>2.643971</td>\n",
       "    </tr>\n",
       "    <tr>\n",
       "      <th>50%</th>\n",
       "      <td>6.552689</td>\n",
       "    </tr>\n",
       "    <tr>\n",
       "      <th>75%</th>\n",
       "      <td>12.221234</td>\n",
       "    </tr>\n",
       "    <tr>\n",
       "      <th>max</th>\n",
       "      <td>567.322296</td>\n",
       "    </tr>\n",
       "  </tbody>\n",
       "</table>\n",
       "</div>"
      ],
      "text/plain": [
       "                 0\n",
       "count  6997.000000\n",
       "mean     10.182313\n",
       "std      25.922601\n",
       "min      -0.619741\n",
       "25%       2.643971\n",
       "50%       6.552689\n",
       "75%      12.221234\n",
       "max     567.322296"
      ]
     },
     "execution_count": 192,
     "metadata": {},
     "output_type": "execute_result"
    }
   ],
   "source": [
    "pd.DataFrame(ack_acker_same).describe()"
   ]
  }
 ],
 "metadata": {
  "kernelspec": {
   "display_name": "Python 3",
   "language": "python",
   "name": "python3"
  },
  "language_info": {
   "codemirror_mode": {
    "name": "ipython",
    "version": 3
   },
   "file_extension": ".py",
   "mimetype": "text/x-python",
   "name": "python",
   "nbconvert_exporter": "python",
   "pygments_lexer": "ipython3",
   "version": "3.6.3"
  }
 },
 "nbformat": 4,
 "nbformat_minor": 2
}
